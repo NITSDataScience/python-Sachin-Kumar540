{
  "nbformat": 4,
  "nbformat_minor": 0,
  "metadata": {
    "colab": {
      "provenance": []
    },
    "kernelspec": {
      "name": "python3",
      "display_name": "Python 3"
    }
  },
  "cells": [
    {
      "cell_type": "code",
      "source": [],
      "metadata": {
        "id": "pXkaiK54Ht_f"
      },
      "execution_count": 42,
      "outputs": []
    },
    {
      "cell_type": "markdown",
      "metadata": {
        "id": "8gPYrx9yy2Br"
      },
      "source": [
        "# Python Programming basics"
      ]
    },
    {
      "cell_type": "markdown",
      "metadata": {
        "id": "CLg2SNP6y2Bt"
      },
      "source": [
        "## Types and Functions"
      ]
    },
    {
      "cell_type": "markdown",
      "metadata": {
        "id": "hYjzzn-jy2B2"
      },
      "source": [
        "Extend the function to take an optional 3rd argument.\n",
        "\n",
        "\n",
        "\n",
        "\n"
      ]
    },
    {
      "cell_type": "markdown",
      "metadata": {
        "id": "WGjNcZc6_zH9"
      },
      "source": [
        "Extend the function to take another optional flag parameter and add only if it is true\n",
        "\n",
        "\n",
        "\n",
        "\n"
      ]
    },
    {
      "cell_type": "code",
      "metadata": {
        "id": "rVHXI5IhfV6w",
        "colab": {
          "base_uri": "https://localhost:8080/"
        },
        "outputId": "59800930-3269-4a42-f592-b6531fb94b4f"
      },
      "source": [
        "def add(x, y):\n",
        "\n",
        "    return x+y\n",
        "\n",
        "def add(x, y, z):\n",
        "  return x+y+z\n",
        "\n",
        "def add(x, y, z, flag=True):\n",
        "\n",
        "    #ADD YOUR CODE HERE\n",
        "    result=x+y\n",
        "    if flag:\n",
        "      result=result+z\n",
        "\n",
        "\n",
        "\n",
        "\n",
        "    return result\n",
        "\n",
        "\n",
        "\n",
        "\n",
        "print(add(4,5,2))\n"
      ],
      "execution_count": 43,
      "outputs": [
        {
          "output_type": "stream",
          "name": "stdout",
          "text": [
            "11\n"
          ]
        }
      ]
    },
    {
      "cell_type": "markdown",
      "metadata": {
        "id": "aHctdefmy2B5"
      },
      "source": [
        "Assign a function to a variable 'a' and print the output"
      ]
    },
    {
      "cell_type": "code",
      "metadata": {
        "id": "-SBXag5fhA-U",
        "colab": {
          "base_uri": "https://localhost:8080/"
        },
        "outputId": "f7fbf71c-9644-4dab-820a-3c86d6f4c0d0"
      },
      "source": [
        "def area (length,width):\n",
        "  area=length*width\n",
        "  return area\n",
        "print(area(10,15))"
      ],
      "execution_count": 44,
      "outputs": [
        {
          "output_type": "stream",
          "name": "stdout",
          "text": [
            "150\n"
          ]
        }
      ]
    },
    {
      "cell_type": "markdown",
      "metadata": {
        "id": "3OIAwYghy2B8"
      },
      "source": [
        "## Iterations in python"
      ]
    },
    {
      "cell_type": "markdown",
      "metadata": {
        "id": "4_CkvyuSy2B9"
      },
      "source": [
        "Create a list of 5 elements"
      ]
    },
    {
      "cell_type": "markdown",
      "metadata": {
        "id": "867_MmDyy2B9"
      },
      "source": [
        "Square every item in the list using a loop inside the array index"
      ]
    },
    {
      "cell_type": "markdown",
      "metadata": {
        "id": "vkO3X8kHy2B-"
      },
      "source": [
        "Show how to use a iterator. First, use enumerate to create a new tuple from above list"
      ]
    },
    {
      "cell_type": "code",
      "metadata": {
        "id": "bY-Bew-YlZ5Y",
        "colab": {
          "base_uri": "https://localhost:8080/"
        },
        "outputId": "bbe9b236-2d6d-445e-b554-469a345efd8f"
      },
      "source": [
        "\n",
        "#class MyInit:\n",
        "   # def __init__(self, start=25):\n",
        "    #    self.current = start\n",
        "   # def __iter__(self):\n",
        "    #    return self\n",
        "\n",
        "   # def __next__(self):\n",
        "   #     result = self.current\n",
        "    #    self.current = self.current ** 2\n",
        "    #    return result\n",
        "\n",
        "#obj1 = MyInit()\n",
        "\n",
        "\n",
        "#itr = iter(obj1)\n",
        "\n",
        "\n",
        "#print(next(itr))\n",
        "#print(next(itr))\n",
        "#print(next(itr))\n",
        "def squre(x):\n",
        "  return x*x\n",
        "\n",
        "list=[1,2,4,5,6]\n",
        "for i in range(5):\n",
        "  print(squre(list[i]))\n"
      ],
      "execution_count": 45,
      "outputs": [
        {
          "output_type": "stream",
          "name": "stdout",
          "text": [
            "1\n",
            "4\n",
            "16\n",
            "25\n",
            "36\n"
          ]
        }
      ]
    },
    {
      "cell_type": "code",
      "metadata": {
        "id": "A_-Qy2Iwo4rk",
        "colab": {
          "base_uri": "https://localhost:8080/"
        },
        "outputId": "010bddee-183a-4767-cda7-461346bda508"
      },
      "source": [
        "from typing import Tuple\n",
        "#First, use enumerate to create a new tuple from above list\n",
        "listSequence = [\"eat\",\"sleep\",\"repeat\"]\n",
        "listSequence1=enumerate[listSequence]\n",
        "print(listSequence1) #use for arrange pair keys with their values accordingly\n",
        "tuple=(listSequence1)\n",
        "print(tuple)\n",
        "\n",
        "\n"
      ],
      "execution_count": 46,
      "outputs": [
        {
          "output_type": "stream",
          "name": "stdout",
          "text": [
            "enumerate[['eat', 'sleep', 'repeat']]\n",
            "enumerate[['eat', 'sleep', 'repeat']]\n"
          ]
        }
      ]
    },
    {
      "cell_type": "markdown",
      "metadata": {
        "id": "sBaeDehEy2B-"
      },
      "source": [
        "Now use a zip iterator to do the same."
      ]
    },
    {
      "cell_type": "markdown",
      "metadata": {
        "id": "UNkFsHgiy2B-"
      },
      "source": [
        "Now state the differences between a zip and enumerate iterator."
      ]
    },
    {
      "cell_type": "markdown",
      "metadata": {
        "id": "B_QQW_dgvM9_"
      },
      "source": [
        "Python`enumerate()` and `zip()` are built-in functions that can be used on sequences.\n",
        "\n",
        "`enumerate()` function can be use to iterate over indices and items of a list.\n",
        "\n",
        "`zip()` function make an iterator that aggregates elements from each of the iterables. In simple words it can be used to iterate over two or more lists in parallel.\n",
        "\n",
        "\n",
        "\n",
        "\n",
        "\n",
        "\n",
        "\n"
      ]
    },
    {
      "cell_type": "markdown",
      "metadata": {
        "id": "gUIwNR9_y2B_"
      },
      "source": [
        "## Strings in Python"
      ]
    },
    {
      "cell_type": "markdown",
      "metadata": {
        "id": "8wA7kbxmy2B_"
      },
      "source": [
        "Open the file poem.txt and print lenght of each line."
      ]
    },
    {
      "cell_type": "markdown",
      "metadata": {
        "id": "hzbK_Czvy2CA"
      },
      "source": [
        "Find sum of each line, mean, median and standard deviation of all lines in the file."
      ]
    },
    {
      "cell_type": "markdown",
      "metadata": {
        "id": "3V_JvJvFy2CB"
      },
      "source": [
        "Count the number of words in the file"
      ]
    },
    {
      "cell_type": "markdown",
      "metadata": {
        "id": "7nxHbZWmy2CB"
      },
      "source": [
        "Print the first 1000 characters from poem.txt."
      ]
    },
    {
      "cell_type": "markdown",
      "metadata": {
        "id": "99VsHGqny2CC"
      },
      "source": [
        "Print the 3rd to 5th words from the file."
      ]
    },
    {
      "cell_type": "code",
      "metadata": {
        "id": "Q90D5ZBPFQHB",
        "colab": {
          "base_uri": "https://localhost:8080/",
          "height": 201
        },
        "outputId": "225c6084-35a3-4065-dd35-37b67e49dfdc"
      },
      "source": [
        "with open('poem.txt','r') as file:\n",
        "\n",
        "    for line in file:\n",
        "      print(len(line))"
      ],
      "execution_count": 47,
      "outputs": [
        {
          "output_type": "error",
          "ename": "FileNotFoundError",
          "evalue": "[Errno 2] No such file or directory: 'poem.txt'",
          "traceback": [
            "\u001b[0;31m---------------------------------------------------------------------------\u001b[0m",
            "\u001b[0;31mFileNotFoundError\u001b[0m                         Traceback (most recent call last)",
            "\u001b[0;32m<ipython-input-47-6f7a7c813051>\u001b[0m in \u001b[0;36m<cell line: 1>\u001b[0;34m()\u001b[0m\n\u001b[0;32m----> 1\u001b[0;31m \u001b[0;32mwith\u001b[0m \u001b[0mopen\u001b[0m\u001b[0;34m(\u001b[0m\u001b[0;34m'poem.txt'\u001b[0m\u001b[0;34m,\u001b[0m\u001b[0;34m'r'\u001b[0m\u001b[0;34m)\u001b[0m \u001b[0;32mas\u001b[0m \u001b[0mfile\u001b[0m\u001b[0;34m:\u001b[0m\u001b[0;34m\u001b[0m\u001b[0;34m\u001b[0m\u001b[0m\n\u001b[0m\u001b[1;32m      2\u001b[0m \u001b[0;34m\u001b[0m\u001b[0m\n\u001b[1;32m      3\u001b[0m     \u001b[0;32mfor\u001b[0m \u001b[0mline\u001b[0m \u001b[0;32min\u001b[0m \u001b[0mfile\u001b[0m\u001b[0;34m:\u001b[0m\u001b[0;34m\u001b[0m\u001b[0;34m\u001b[0m\u001b[0m\n\u001b[1;32m      4\u001b[0m       \u001b[0mprint\u001b[0m\u001b[0;34m(\u001b[0m\u001b[0mlen\u001b[0m\u001b[0;34m(\u001b[0m\u001b[0mline\u001b[0m\u001b[0;34m)\u001b[0m\u001b[0;34m)\u001b[0m\u001b[0;34m\u001b[0m\u001b[0;34m\u001b[0m\u001b[0m\n",
            "\u001b[0;31mFileNotFoundError\u001b[0m: [Errno 2] No such file or directory: 'poem.txt'"
          ]
        }
      ]
    },
    {
      "cell_type": "code",
      "source": [
        "word_count = 0\n",
        "\n",
        "with open('poem.txt', 'r') as file:\n",
        "    for line in file:\n",
        "        words = line.split()\n",
        "        word_count += len(words)\n",
        "\n",
        "print(f\"Number of words: {word_count}\")"
      ],
      "metadata": {
        "id": "hkcjBuabvqHB",
        "colab": {
          "base_uri": "https://localhost:8080/",
          "height": 219
        },
        "outputId": "74509615-9b73-42d4-ec09-252ab8656456"
      },
      "execution_count": 48,
      "outputs": [
        {
          "output_type": "error",
          "ename": "FileNotFoundError",
          "evalue": "[Errno 2] No such file or directory: 'poem.txt'",
          "traceback": [
            "\u001b[0;31m---------------------------------------------------------------------------\u001b[0m",
            "\u001b[0;31mFileNotFoundError\u001b[0m                         Traceback (most recent call last)",
            "\u001b[0;32m<ipython-input-48-27928062695f>\u001b[0m in \u001b[0;36m<cell line: 3>\u001b[0;34m()\u001b[0m\n\u001b[1;32m      1\u001b[0m \u001b[0mword_count\u001b[0m \u001b[0;34m=\u001b[0m \u001b[0;36m0\u001b[0m\u001b[0;34m\u001b[0m\u001b[0;34m\u001b[0m\u001b[0m\n\u001b[1;32m      2\u001b[0m \u001b[0;34m\u001b[0m\u001b[0m\n\u001b[0;32m----> 3\u001b[0;31m \u001b[0;32mwith\u001b[0m \u001b[0mopen\u001b[0m\u001b[0;34m(\u001b[0m\u001b[0;34m'poem.txt'\u001b[0m\u001b[0;34m,\u001b[0m \u001b[0;34m'r'\u001b[0m\u001b[0;34m)\u001b[0m \u001b[0;32mas\u001b[0m \u001b[0mfile\u001b[0m\u001b[0;34m:\u001b[0m\u001b[0;34m\u001b[0m\u001b[0;34m\u001b[0m\u001b[0m\n\u001b[0m\u001b[1;32m      4\u001b[0m     \u001b[0;32mfor\u001b[0m \u001b[0mline\u001b[0m \u001b[0;32min\u001b[0m \u001b[0mfile\u001b[0m\u001b[0;34m:\u001b[0m\u001b[0;34m\u001b[0m\u001b[0;34m\u001b[0m\u001b[0m\n\u001b[1;32m      5\u001b[0m         \u001b[0mwords\u001b[0m \u001b[0;34m=\u001b[0m \u001b[0mline\u001b[0m\u001b[0;34m.\u001b[0m\u001b[0msplit\u001b[0m\u001b[0;34m(\u001b[0m\u001b[0;34m)\u001b[0m\u001b[0;34m\u001b[0m\u001b[0;34m\u001b[0m\u001b[0m\n",
            "\u001b[0;31mFileNotFoundError\u001b[0m: [Errno 2] No such file or directory: 'poem.txt'"
          ]
        }
      ]
    },
    {
      "cell_type": "code",
      "source": [
        "with open('poem.txt', 'r') as file:\n",
        "    content = file.read(1000)\n",
        "\n",
        "print(content)"
      ],
      "metadata": {
        "id": "v86iMZstvt2J"
      },
      "execution_count": null,
      "outputs": []
    },
    {
      "cell_type": "code",
      "source": [
        "words = []\n",
        "\n",
        "with open('poem.txt', 'r') as file:\n",
        "    for line in file:\n",
        "        words.extend(line.split())\n",
        "\n",
        "\n",
        "if len(words) >= 5:\n",
        "    print(words[2:5])\n",
        "else:\n",
        "    print(\"Not enough words in the file.\")"
      ],
      "metadata": {
        "id": "c6eGiHMdvynJ"
      },
      "execution_count": null,
      "outputs": []
    },
    {
      "cell_type": "code",
      "source": [
        "with open('poem.txt', 'r') as file:\n",
        "    for line in file:\n",
        "        words.extend(line.split())\n",
        "\n",
        "\n",
        "selected_words = words[1:15][::3]\n",
        "\n",
        "print(selected_words)"
      ],
      "metadata": {
        "id": "ZqFcqDaDv2jY"
      },
      "execution_count": null,
      "outputs": []
    },
    {
      "cell_type": "code",
      "source": [
        "words = []\n",
        "\n",
        "with open('poem.txt', 'r') as file:\n",
        "    for line in file:\n",
        "        words.extend(line.split())\n",
        "\n",
        "if words:\n",
        "    last_word = words[-1]\n",
        "    if len(last_word) > 1:\n",
        "        modified_word = last_word[:-2] + 'g' + last_word[-1]\n",
        "        print(f\"Last word (modified): {modified_word}\")\n",
        "    else:\n",
        "        print(\"The last word is too short to modify.\")\n",
        "else:\n",
        "    print(\"The file is empty.\")"
      ],
      "metadata": {
        "id": "F7QwJqvEv70S"
      },
      "execution_count": null,
      "outputs": []
    },
    {
      "cell_type": "code",
      "source": [],
      "metadata": {
        "id": "JSxa5DKqukBl"
      },
      "execution_count": null,
      "outputs": []
    },
    {
      "cell_type": "markdown",
      "metadata": {
        "id": "0Hnpmu0_y2CC"
      },
      "source": [
        "Get every third word between the second and the 15th words from poem.txt.\n"
      ]
    },
    {
      "cell_type": "markdown",
      "metadata": {
        "id": "TegFp9QKy2CD"
      },
      "source": [
        "Print the last word from the file and change the second last characted in the string to 'g'."
      ]
    },
    {
      "cell_type": "markdown",
      "metadata": {
        "id": "sUt3Lqeoy2CD"
      },
      "source": [
        "State if the above operation completed successfully. State reasons"
      ]
    },
    {
      "cell_type": "markdown",
      "metadata": {
        "id": "jZ9nTQTPy2CD"
      },
      "source": [
        "# Find types of Python variables and functions"
      ]
    },
    {
      "cell_type": "markdown",
      "metadata": {
        "id": "4MdBFHNUy2CG"
      },
      "source": [
        "Find what are the types of the following and state if they are mutable of immutable"
      ]
    },
    {
      "cell_type": "code",
      "metadata": {
        "id": "OVWI69foy2CE",
        "colab": {
          "base_uri": "https://localhost:8080/"
        },
        "outputId": "22ad2ab3-0ab2-4d82-c413-c61074f225d6"
      },
      "source": [
        "None\n",
        "1\n",
        "1.0\n",
        "List=[1,1.0,\"string\"]\n",
        "List.append(5)\n",
        "List.append(6)\n",
        "print(List)\n",
        "for val in List:\n",
        "  print(val)\n",
        "(1,'a',3,'b')\n",
        "[1,'a',3,'b']"
      ],
      "execution_count": 49,
      "outputs": [
        {
          "output_type": "stream",
          "name": "stdout",
          "text": [
            "[1, 1.0, 'string', 5, 6]\n",
            "1\n",
            "1.0\n",
            "string\n",
            "5\n",
            "6\n"
          ]
        },
        {
          "output_type": "execute_result",
          "data": {
            "text/plain": [
              "[1, 'a', 3, 'b']"
            ]
          },
          "metadata": {},
          "execution_count": 49
        }
      ]
    },
    {
      "cell_type": "markdown",
      "metadata": {
        "id": "nFl2jaKjy2CJ"
      },
      "source": [
        "Append new elements at the end of a list"
      ]
    },
    {
      "cell_type": "markdown",
      "metadata": {
        "id": "KlCeSN9jy2CJ"
      },
      "source": [
        "Loop through each element of the list"
      ]
    },
    {
      "cell_type": "markdown",
      "metadata": {
        "id": "dPiMENDty2CJ"
      },
      "source": [
        "Use a indexing operator"
      ]
    },
    {
      "cell_type": "code",
      "metadata": {
        "id": "RNWJ03ODOsxt",
        "colab": {
          "base_uri": "https://localhost:8080/",
          "height": 347
        },
        "outputId": "e38b0e9d-1fdf-4942-e808-40b095dc7bf9"
      },
      "source": [
        "#indexing operator\n",
        "str_indexing = \"hey\"\n",
        "str=\"sachin\"\n",
        "sum_str=str_indexing+str\n",
        "print(sum_str)\n",
        "lastchar=sum_str[-1]\n",
        "print(lastchar)\n",
        "List=[1,4,2]\n",
        "Repeated_List=List*2\n",
        "print(Repeated_List)\n",
        "print(sum_str[3:])\n",
        "firstname=\"rohan\"\n",
        "lastname=\"sharma\"\n",
        "result=lastname+3*firstname\n",
        "print(result)\n",
        "text = \"The quick brown fox\"\n",
        "words = text.split()\n",
        "second_word = words[1]\n",
        "last_word = words[-1]\n",
        "print(\"Second word:\", second_word)\n",
        "print(\"Last word:\", last_word)\n",
        "str=\"sachin\"\n",
        "n=5\n",
        "num_str = str(n)\n",
        "res_str=str+num_str\n",
        "print(res_str)\n"
      ],
      "execution_count": 50,
      "outputs": [
        {
          "output_type": "stream",
          "name": "stdout",
          "text": [
            "heysachin\n",
            "n\n",
            "[1, 4, 2, 1, 4, 2]\n",
            "sachin\n",
            "sharmarohanrohanrohan\n",
            "Second word: quick\n",
            "Last word: fox\n"
          ]
        },
        {
          "output_type": "error",
          "ename": "TypeError",
          "evalue": "'str' object is not callable",
          "traceback": [
            "\u001b[0;31m---------------------------------------------------------------------------\u001b[0m",
            "\u001b[0;31mTypeError\u001b[0m                                 Traceback (most recent call last)",
            "\u001b[0;32m<ipython-input-50-794bfff96312>\u001b[0m in \u001b[0;36m<cell line: 24>\u001b[0;34m()\u001b[0m\n\u001b[1;32m     22\u001b[0m \u001b[0mstr\u001b[0m\u001b[0;34m=\u001b[0m\u001b[0;34m\"sachin\"\u001b[0m\u001b[0;34m\u001b[0m\u001b[0;34m\u001b[0m\u001b[0m\n\u001b[1;32m     23\u001b[0m \u001b[0mn\u001b[0m\u001b[0;34m=\u001b[0m\u001b[0;36m5\u001b[0m\u001b[0;34m\u001b[0m\u001b[0;34m\u001b[0m\u001b[0m\n\u001b[0;32m---> 24\u001b[0;31m \u001b[0mnum_str\u001b[0m \u001b[0;34m=\u001b[0m \u001b[0mstr\u001b[0m\u001b[0;34m(\u001b[0m\u001b[0mn\u001b[0m\u001b[0;34m)\u001b[0m\u001b[0;34m\u001b[0m\u001b[0;34m\u001b[0m\u001b[0m\n\u001b[0m\u001b[1;32m     25\u001b[0m \u001b[0mres_str\u001b[0m\u001b[0;34m=\u001b[0m\u001b[0mstr\u001b[0m\u001b[0;34m+\u001b[0m\u001b[0mnum_str\u001b[0m\u001b[0;34m\u001b[0m\u001b[0;34m\u001b[0m\u001b[0m\n\u001b[1;32m     26\u001b[0m \u001b[0mprint\u001b[0m\u001b[0;34m(\u001b[0m\u001b[0mres_str\u001b[0m\u001b[0;34m)\u001b[0m\u001b[0;34m\u001b[0m\u001b[0;34m\u001b[0m\u001b[0m\n",
            "\u001b[0;31mTypeError\u001b[0m: 'str' object is not callable"
          ]
        }
      ]
    },
    {
      "cell_type": "markdown",
      "metadata": {
        "id": "GwE4mMdhy2CK"
      },
      "source": [
        "Concatenate two lists"
      ]
    },
    {
      "cell_type": "markdown",
      "metadata": {
        "id": "i_zLyIo8y2CL"
      },
      "source": [
        "Use * to repeat lists"
      ]
    },
    {
      "cell_type": "markdown",
      "metadata": {
        "id": "TpjprH_ny2CL"
      },
      "source": [
        "Use the in operator to check if something is in a list"
      ]
    },
    {
      "cell_type": "markdown",
      "metadata": {
        "id": "mntnTokRy2CM"
      },
      "source": [
        "Initialize a string and slice the first 1, 2 and 3 characters. Then from 3rd to end."
      ]
    },
    {
      "cell_type": "markdown",
      "metadata": {
        "id": "LesTR0zny2CM"
      },
      "source": [
        "Take a first name and a last name and then concatenate the last name with 3 times the first name and show result."
      ]
    },
    {
      "cell_type": "markdown",
      "metadata": {
        "id": "zMGaGnfqy2CN"
      },
      "source": [
        "Take a string with four words. Use the split function to display the second and the last words"
      ]
    },
    {
      "cell_type": "markdown",
      "metadata": {
        "id": "MBMKwMEvy2CN"
      },
      "source": [
        "Concatenate a number with a string. Update following:"
      ]
    },
    {
      "cell_type": "markdown",
      "metadata": {
        "id": "a_TA6ZKty2CQ"
      },
      "source": [
        "## Dictionaries associated with lists"
      ]
    },
    {
      "cell_type": "markdown",
      "metadata": {
        "id": "65CVIPRsy2CQ"
      },
      "source": [
        "Create a list of keys and values"
      ]
    },
    {
      "cell_type": "code",
      "metadata": {
        "id": "OjE1qRasy2CU",
        "colab": {
          "base_uri": "https://localhost:8080/",
          "height": 274
        },
        "outputId": "0aefbbc8-b42d-4ce0-d2df-f6f30103a5d7"
      },
      "source": [
        "x={\"sachin\":95,\"beta\":90}\n",
        "print(x.keys())\n",
        "print(x.values())\n",
        "print(x.items())\n",
        "# Convert keys view object to a list\n",
        "keys_list = list(x.keys())\n",
        "\n",
        "\n",
        "key1, key2 = keys_list\n",
        "\n",
        "print(key1)  # Output: sachin\n",
        "print(key2)"
      ],
      "execution_count": 51,
      "outputs": [
        {
          "output_type": "stream",
          "name": "stdout",
          "text": [
            "dict_keys(['sachin', 'beta'])\n",
            "dict_values([95, 90])\n",
            "dict_items([('sachin', 95), ('beta', 90)])\n"
          ]
        },
        {
          "output_type": "error",
          "ename": "TypeError",
          "evalue": "'list' object is not callable",
          "traceback": [
            "\u001b[0;31m---------------------------------------------------------------------------\u001b[0m",
            "\u001b[0;31mTypeError\u001b[0m                                 Traceback (most recent call last)",
            "\u001b[0;32m<ipython-input-51-5758b965194c>\u001b[0m in \u001b[0;36m<cell line: 6>\u001b[0;34m()\u001b[0m\n\u001b[1;32m      4\u001b[0m \u001b[0mprint\u001b[0m\u001b[0;34m(\u001b[0m\u001b[0mx\u001b[0m\u001b[0;34m.\u001b[0m\u001b[0mitems\u001b[0m\u001b[0;34m(\u001b[0m\u001b[0;34m)\u001b[0m\u001b[0;34m)\u001b[0m\u001b[0;34m\u001b[0m\u001b[0;34m\u001b[0m\u001b[0m\n\u001b[1;32m      5\u001b[0m \u001b[0;31m# Convert keys view object to a list\u001b[0m\u001b[0;34m\u001b[0m\u001b[0;34m\u001b[0m\u001b[0m\n\u001b[0;32m----> 6\u001b[0;31m \u001b[0mkeys_list\u001b[0m \u001b[0;34m=\u001b[0m \u001b[0mlist\u001b[0m\u001b[0;34m(\u001b[0m\u001b[0mx\u001b[0m\u001b[0;34m.\u001b[0m\u001b[0mkeys\u001b[0m\u001b[0;34m(\u001b[0m\u001b[0;34m)\u001b[0m\u001b[0;34m)\u001b[0m\u001b[0;34m\u001b[0m\u001b[0;34m\u001b[0m\u001b[0m\n\u001b[0m\u001b[1;32m      7\u001b[0m \u001b[0;34m\u001b[0m\u001b[0m\n\u001b[1;32m      8\u001b[0m \u001b[0;34m\u001b[0m\u001b[0m\n",
            "\u001b[0;31mTypeError\u001b[0m: 'list' object is not callable"
          ]
        }
      ]
    },
    {
      "cell_type": "markdown",
      "metadata": {
        "id": "uy7RhY0Ay2CX"
      },
      "source": [
        "Iterate over all the keys"
      ]
    },
    {
      "cell_type": "markdown",
      "metadata": {
        "id": "AkVjf-WCy2CX"
      },
      "source": [
        "Iterate over all the values"
      ]
    },
    {
      "cell_type": "markdown",
      "metadata": {
        "id": "HQUMO11zy2CX"
      },
      "source": [
        "Iterate over all the key-value pairs in the list"
      ]
    },
    {
      "cell_type": "markdown",
      "metadata": {
        "id": "7t-tLa9Ny2CY"
      },
      "source": [
        "Unpack the following sequence into different variables"
      ]
    },
    {
      "cell_type": "code",
      "metadata": {
        "id": "wN1raIzoy2CY",
        "colab": {
          "base_uri": "https://localhost:8080/"
        },
        "outputId": "b4962a0f-d577-4467-d522-79adca06d1e6"
      },
      "source": [
        "data=('Prithwish','IIITG','prithwish.sen@iiitg','CSE')\n",
        "\n",
        "\n",
        "# Unpack the tuple\n",
        "name, institute, email, department = data\n",
        "\n",
        "\n",
        "formatted_string = f\"Name: {name}, Institute: {institute}, Email: {email}, Department: {department}\"\n",
        "print(formatted_string)"
      ],
      "execution_count": 52,
      "outputs": [
        {
          "output_type": "stream",
          "name": "stdout",
          "text": [
            "Name: Prithwish, Institute: IIITG, Email: prithwish.sen@iiitg, Department: CSE\n"
          ]
        }
      ]
    },
    {
      "cell_type": "markdown",
      "metadata": {
        "id": "m4ja7geoy2Ca"
      },
      "source": [
        "Use Python's in-built methods for string formatting"
      ]
    },
    {
      "cell_type": "code",
      "metadata": {
        "id": "slhscP_fy2Cb",
        "colab": {
          "base_uri": "https://localhost:8080/",
          "height": 219
        },
        "outputId": "1f7fbfb4-e0fa-4469-8e81-c5d7c8934cff"
      },
      "source": [
        "sales_record = {\n",
        "'price': 3.24,\n",
        "'num_items': 4,\n",
        "'person': 'Prithwish'}\n",
        "for key,value in sales_record.items():\n",
        "  print(key,value)\n",
        "  print('{}got {}items(s) at a cost of {}each for a total of {}'.format(key,value))\n",
        "\n"
      ],
      "execution_count": 53,
      "outputs": [
        {
          "output_type": "stream",
          "name": "stdout",
          "text": [
            "price 3.24\n"
          ]
        },
        {
          "output_type": "error",
          "ename": "IndexError",
          "evalue": "Replacement index 2 out of range for positional args tuple",
          "traceback": [
            "\u001b[0;31m---------------------------------------------------------------------------\u001b[0m",
            "\u001b[0;31mIndexError\u001b[0m                                Traceback (most recent call last)",
            "\u001b[0;32m<ipython-input-53-76bd989574d8>\u001b[0m in \u001b[0;36m<cell line: 5>\u001b[0;34m()\u001b[0m\n\u001b[1;32m      5\u001b[0m \u001b[0;32mfor\u001b[0m \u001b[0mkey\u001b[0m\u001b[0;34m,\u001b[0m\u001b[0mvalue\u001b[0m \u001b[0;32min\u001b[0m \u001b[0msales_record\u001b[0m\u001b[0;34m.\u001b[0m\u001b[0mitems\u001b[0m\u001b[0;34m(\u001b[0m\u001b[0;34m)\u001b[0m\u001b[0;34m:\u001b[0m\u001b[0;34m\u001b[0m\u001b[0;34m\u001b[0m\u001b[0m\n\u001b[1;32m      6\u001b[0m   \u001b[0mprint\u001b[0m\u001b[0;34m(\u001b[0m\u001b[0mkey\u001b[0m\u001b[0;34m,\u001b[0m\u001b[0mvalue\u001b[0m\u001b[0;34m)\u001b[0m\u001b[0;34m\u001b[0m\u001b[0;34m\u001b[0m\u001b[0m\n\u001b[0;32m----> 7\u001b[0;31m   \u001b[0mprint\u001b[0m\u001b[0;34m(\u001b[0m\u001b[0;34m'{}got {}items(s) at a cost of {}each for a total of {}'\u001b[0m\u001b[0;34m.\u001b[0m\u001b[0mformat\u001b[0m\u001b[0;34m(\u001b[0m\u001b[0mkey\u001b[0m\u001b[0;34m,\u001b[0m\u001b[0mvalue\u001b[0m\u001b[0;34m)\u001b[0m\u001b[0;34m)\u001b[0m\u001b[0;34m\u001b[0m\u001b[0;34m\u001b[0m\u001b[0m\n\u001b[0m\u001b[1;32m      8\u001b[0m \u001b[0;34m\u001b[0m\u001b[0m\n",
            "\u001b[0;31mIndexError\u001b[0m: Replacement index 2 out of range for positional args tuple"
          ]
        }
      ]
    },
    {
      "cell_type": "markdown",
      "metadata": {
        "id": "LoT7hOzTy2Cd"
      },
      "source": [
        "Take a list of 10 elements and convert into json using  json library. Demonstrate use of loads and dumps"
      ]
    },
    {
      "cell_type": "markdown",
      "metadata": {
        "id": "nMkQMWzMy2Cd"
      },
      "source": [
        "# Python objects and functions"
      ]
    },
    {
      "cell_type": "markdown",
      "metadata": {
        "id": "QCp0jOsoy2Cd"
      },
      "source": [
        "Take the following code:"
      ]
    },
    {
      "cell_type": "code",
      "metadata": {
        "id": "E-8EYUk5y2Ce",
        "colab": {
          "base_uri": "https://localhost:8080/"
        },
        "outputId": "0d168b08-416c-4228-a7bb-6f6b3bb90575"
      },
      "source": [
        "class students:\n",
        "    dept = \"Department of EIE\"\n",
        "\n",
        "\n",
        "\n",
        "    def assign_name(self, n):\n",
        "        self.name = n\n",
        "\n",
        "    def assign_location(self, l):\n",
        "        self.location = l\n",
        "\n",
        "    def display_info(self):\n",
        "        print(f\"Name: {self.name}\")\n",
        "        print(f\"Location: {self.location}\")\n",
        "        print(f\"Department: {self.dept}\")\n",
        "\n",
        "\n",
        "student1 = students()\n",
        "student1.assign_name(\"Sachin\")\n",
        "student1.assign_location(\"Silchar\")\n",
        "\n",
        "\n",
        "print(f\"{student1.name} lives in {student1.location} and works in the {student1.dept}.\")\n",
        "\n",
        "\n"
      ],
      "execution_count": 31,
      "outputs": [
        {
          "output_type": "stream",
          "name": "stdout",
          "text": [
            "Sachin lives in Silchar and works in the Department of EIE.\n"
          ]
        }
      ]
    },
    {
      "cell_type": "markdown",
      "metadata": {
        "id": "rTVHPd9Yy2Cg"
      },
      "source": [
        "Create a object of the class above. Set name and location of your choice."
      ]
    },
    {
      "cell_type": "markdown",
      "metadata": {
        "id": "qc0eLaAxy2Cg"
      },
      "source": [
        "Format accordingly and print in a manner so we see something like : \"Dip Sankar lives in Guwahati, Assam, India and works in the Department of CSE\". The name and location should be of your choice. Use 1 print only"
      ]
    },
    {
      "cell_type": "code",
      "metadata": {
        "id": "R-8CrVC0fCAG",
        "colab": {
          "base_uri": "https://localhost:8080/"
        },
        "outputId": "85a03ce5-f060-454f-d7b1-63db0c3e5418"
      },
      "source": [
        "sentence = '{sachin} lives in {silchar} and is a student in the {EIE}'\n",
        "print(sentence)"
      ],
      "execution_count": 55,
      "outputs": [
        {
          "output_type": "stream",
          "name": "stdout",
          "text": [
            "{sachin} lives in {} and is a student in the {}\n"
          ]
        }
      ]
    },
    {
      "cell_type": "markdown",
      "metadata": {
        "id": "doTTevlfy2Cg"
      },
      "source": [
        "Create two lists of 5 elements each. Map the min function to the lists using map(). Print the minimum object."
      ]
    },
    {
      "cell_type": "markdown",
      "metadata": {
        "id": "BswqG15uy2Ch"
      },
      "source": [
        "Iterate through that object and print the elements."
      ]
    },
    {
      "cell_type": "markdown",
      "metadata": {
        "id": "wRSPLPv-y2Ch"
      },
      "source": [
        "# Working with CSV"
      ]
    },
    {
      "cell_type": "markdown",
      "metadata": {
        "id": "zEivdvdky2Ci"
      },
      "source": [
        "Let's import a file with fuel economy data"
      ]
    },
    {
      "cell_type": "code",
      "metadata": {
        "id": "yTgXXq8gy2Ci",
        "colab": {
          "base_uri": "https://localhost:8080/",
          "height": 219
        },
        "outputId": "82c06a53-4e93-4152-be2e-9cfbe34c15a9"
      },
      "source": [
        "import csv\n",
        "\n",
        "with open('mpg.csv') as csvfile:\n",
        "    reader = csv.reader(csvfile)\n",
        "\n",
        "    # Read the header (first row)\n",
        "    header = next(reader)\n",
        "    print(\"Header:\", header)\n",
        "\n",
        "    # Initialize a list to store the rows\n",
        "    data = []\n",
        "\n",
        "    # Iterate through the rows and add them to the list\n",
        "    for row in reader:\n",
        "        data.append(row)\n",
        "\n",
        "# Now you can work with the data list\n",
        "print(\"\\nData:\")\n",
        "for item in data:\n",
        "    print(item)\n",
        "\n",
        "\n",
        "\n",
        "\n",
        "\n",
        "\n"
      ],
      "execution_count": 56,
      "outputs": [
        {
          "output_type": "error",
          "ename": "FileNotFoundError",
          "evalue": "[Errno 2] No such file or directory: 'mpg.csv'",
          "traceback": [
            "\u001b[0;31m---------------------------------------------------------------------------\u001b[0m",
            "\u001b[0;31mFileNotFoundError\u001b[0m                         Traceback (most recent call last)",
            "\u001b[0;32m<ipython-input-56-121cd5532e9c>\u001b[0m in \u001b[0;36m<cell line: 3>\u001b[0;34m()\u001b[0m\n\u001b[1;32m      1\u001b[0m \u001b[0;32mimport\u001b[0m \u001b[0mcsv\u001b[0m\u001b[0;34m\u001b[0m\u001b[0;34m\u001b[0m\u001b[0m\n\u001b[1;32m      2\u001b[0m \u001b[0;34m\u001b[0m\u001b[0m\n\u001b[0;32m----> 3\u001b[0;31m \u001b[0;32mwith\u001b[0m \u001b[0mopen\u001b[0m\u001b[0;34m(\u001b[0m\u001b[0;34m'mpg.csv'\u001b[0m\u001b[0;34m)\u001b[0m \u001b[0;32mas\u001b[0m \u001b[0mcsvfile\u001b[0m\u001b[0;34m:\u001b[0m\u001b[0;34m\u001b[0m\u001b[0;34m\u001b[0m\u001b[0m\n\u001b[0m\u001b[1;32m      4\u001b[0m     \u001b[0mreader\u001b[0m \u001b[0;34m=\u001b[0m \u001b[0mcsv\u001b[0m\u001b[0;34m.\u001b[0m\u001b[0mreader\u001b[0m\u001b[0;34m(\u001b[0m\u001b[0mcsvfile\u001b[0m\u001b[0;34m)\u001b[0m\u001b[0;34m\u001b[0m\u001b[0;34m\u001b[0m\u001b[0m\n\u001b[1;32m      5\u001b[0m \u001b[0;34m\u001b[0m\u001b[0m\n",
            "\u001b[0;31mFileNotFoundError\u001b[0m: [Errno 2] No such file or directory: 'mpg.csv'"
          ]
        }
      ]
    },
    {
      "cell_type": "markdown",
      "metadata": {
        "id": "2jk34ecny2Ck"
      },
      "source": [
        "Find out how many items are there in the dictionary"
      ]
    },
    {
      "cell_type": "code",
      "metadata": {
        "id": "02Q5rU3QkK-p",
        "colab": {
          "base_uri": "https://localhost:8080/",
          "height": 219
        },
        "outputId": "d3828c76-fe79-4643-a768-19abc3a4b171"
      },
      "source": [
        "#for item in mpg[1].items():\n",
        "with open('mpg.csv', 'r') as csvfile:\n",
        "    reader = csv.DictReader(csvfile)  # Use DictReader for easier access to rows as dictionaries\n",
        "\n",
        "    # Read the rows into a list\n",
        "    data = [row for row in reader]\n",
        "\n",
        "# Access the second row (index 1) and count the items in the dictionary\n",
        "row_dict = data[1]  # Get the second row as a dictionary\n",
        "\n",
        "# Count the number of items in the dictionary\n",
        "count = 0\n",
        "for item in row_dict.items():\n",
        "    count += 1  # Increment the counter for each item\n",
        "\n",
        "print(f\"There are {count} items in the dictionary for the second row.\")\n",
        ""
      ],
      "execution_count": 57,
      "outputs": [
        {
          "output_type": "error",
          "ename": "FileNotFoundError",
          "evalue": "[Errno 2] No such file or directory: 'mpg.csv'",
          "traceback": [
            "\u001b[0;31m---------------------------------------------------------------------------\u001b[0m",
            "\u001b[0;31mFileNotFoundError\u001b[0m                         Traceback (most recent call last)",
            "\u001b[0;32m<ipython-input-57-f75e80098289>\u001b[0m in \u001b[0;36m<cell line: 2>\u001b[0;34m()\u001b[0m\n\u001b[1;32m      1\u001b[0m \u001b[0;31m#for item in mpg[1].items():\u001b[0m\u001b[0;34m\u001b[0m\u001b[0;34m\u001b[0m\u001b[0m\n\u001b[0;32m----> 2\u001b[0;31m \u001b[0;32mwith\u001b[0m \u001b[0mopen\u001b[0m\u001b[0;34m(\u001b[0m\u001b[0;34m'mpg.csv'\u001b[0m\u001b[0;34m,\u001b[0m \u001b[0;34m'r'\u001b[0m\u001b[0;34m)\u001b[0m \u001b[0;32mas\u001b[0m \u001b[0mcsvfile\u001b[0m\u001b[0;34m:\u001b[0m\u001b[0;34m\u001b[0m\u001b[0;34m\u001b[0m\u001b[0m\n\u001b[0m\u001b[1;32m      3\u001b[0m     \u001b[0mreader\u001b[0m \u001b[0;34m=\u001b[0m \u001b[0mcsv\u001b[0m\u001b[0;34m.\u001b[0m\u001b[0mDictReader\u001b[0m\u001b[0;34m(\u001b[0m\u001b[0mcsvfile\u001b[0m\u001b[0;34m)\u001b[0m  \u001b[0;31m# Use DictReader for easier access to rows as dictionaries\u001b[0m\u001b[0;34m\u001b[0m\u001b[0;34m\u001b[0m\u001b[0m\n\u001b[1;32m      4\u001b[0m \u001b[0;34m\u001b[0m\u001b[0m\n\u001b[1;32m      5\u001b[0m     \u001b[0;31m# Read the rows into a list\u001b[0m\u001b[0;34m\u001b[0m\u001b[0;34m\u001b[0m\u001b[0m\n",
            "\u001b[0;31mFileNotFoundError\u001b[0m: [Errno 2] No such file or directory: 'mpg.csv'"
          ]
        }
      ]
    },
    {
      "cell_type": "markdown",
      "metadata": {
        "id": "0a9wQEZty2Ck"
      },
      "source": [
        "Find the column names with keys"
      ]
    },
    {
      "cell_type": "markdown",
      "metadata": {
        "id": "H5I5ltFjy2Cl"
      },
      "source": [
        "Find the average cty fuel economy across all cars. All values in the dictionaries are strings."
      ]
    },
    {
      "cell_type": "markdown",
      "metadata": {
        "id": "hdUYyxAyy2Cl"
      },
      "source": [
        "Find the average hwy fuel economy across all cars"
      ]
    },
    {
      "cell_type": "markdown",
      "metadata": {
        "id": "tis50Ybjy2Cl"
      },
      "source": [
        "Use set to return the unique values for the number of cylinders the cars."
      ]
    },
    {
      "cell_type": "code",
      "source": [
        "with open('mpg.csv', 'r') as csvfile:\n",
        "    reader = csv.reader(csvfile)\n",
        "    header = next(reader)\n",
        "print(\"Column names (keys):\")\n",
        "print(header"
      ],
      "metadata": {
        "id": "aO40wuX2gfqV"
      },
      "execution_count": null,
      "outputs": []
    },
    {
      "cell_type": "code",
      "source": [
        "total_cty = 0\n",
        "count = 0\n",
        "with open('mpg.csv', 'r') as csvfile:\n",
        "    reader = csv.DictReader(csvfile)\n",
        "    for row in reader:\n",
        "        total_cty += float(row['cty'])\n",
        "        count += 1\n",
        "if count > 0:\n",
        "    average_cty = total_cty / count\n",
        "    print(f\"The average city fuel economy (cty) across all cars is: {average_cty:.2f}\")\n",
        "else:\n",
        "    print(\"No data available to calculate the average.\")"
      ],
      "metadata": {
        "id": "yenUrV6GgpUu"
      },
      "execution_count": null,
      "outputs": []
    },
    {
      "cell_type": "code",
      "source": [
        "with open('mpg.csv', 'r') as csvfile:\n",
        "    reader = csv.DictReader(csvfile)\n",
        "    for row in reader:\n",
        "        total_hwy += float(row['hwy'])\n",
        "        count += 1\n",
        "if count > 0:\n",
        "    average_hwy = total_hwy / count\n",
        "    print(f\"The average highway fuel economy (hwy) across all cars is: {average_hwy:.2f}\")\n",
        "else:\n",
        "    print(\"No data available to calculate the average.\")"
      ],
      "metadata": {
        "id": "XDFthHpCg13e"
      },
      "execution_count": null,
      "outputs": []
    },
    {
      "cell_type": "code",
      "source": [
        "with open('mpg.csv', 'r') as csvfile:\n",
        "    reader = csv.DictReader(csvfile)\n",
        "    for row in reader:\n",
        "        cylinder_set.add(row['cyl'])\n",
        "unique_cylinders = sorted(cylinder_set)\n",
        "print(\"Unique number of cylinders:\", unique_cylinders)"
      ],
      "metadata": {
        "colab": {
          "base_uri": "https://localhost:8080/",
          "height": 219
        },
        "id": "DqP-6zS3hAlI",
        "outputId": "9e24cab0-9437-4fa8-8ed3-95dcef36e8f5"
      },
      "execution_count": 1,
      "outputs": [
        {
          "output_type": "error",
          "ename": "FileNotFoundError",
          "evalue": "[Errno 2] No such file or directory: 'mpg.csv'",
          "traceback": [
            "\u001b[0;31m---------------------------------------------------------------------------\u001b[0m",
            "\u001b[0;31mFileNotFoundError\u001b[0m                         Traceback (most recent call last)",
            "\u001b[0;32m<ipython-input-1-bb48c72da4ba>\u001b[0m in \u001b[0;36m<cell line: 1>\u001b[0;34m()\u001b[0m\n\u001b[0;32m----> 1\u001b[0;31m \u001b[0;32mwith\u001b[0m \u001b[0mopen\u001b[0m\u001b[0;34m(\u001b[0m\u001b[0;34m'mpg.csv'\u001b[0m\u001b[0;34m,\u001b[0m \u001b[0;34m'r'\u001b[0m\u001b[0;34m)\u001b[0m \u001b[0;32mas\u001b[0m \u001b[0mcsvfile\u001b[0m\u001b[0;34m:\u001b[0m\u001b[0;34m\u001b[0m\u001b[0;34m\u001b[0m\u001b[0m\n\u001b[0m\u001b[1;32m      2\u001b[0m     \u001b[0mreader\u001b[0m \u001b[0;34m=\u001b[0m \u001b[0mcsv\u001b[0m\u001b[0;34m.\u001b[0m\u001b[0mDictReader\u001b[0m\u001b[0;34m(\u001b[0m\u001b[0mcsvfile\u001b[0m\u001b[0;34m)\u001b[0m\u001b[0;34m\u001b[0m\u001b[0;34m\u001b[0m\u001b[0m\n\u001b[1;32m      3\u001b[0m     \u001b[0;32mfor\u001b[0m \u001b[0mrow\u001b[0m \u001b[0;32min\u001b[0m \u001b[0mreader\u001b[0m\u001b[0;34m:\u001b[0m\u001b[0;34m\u001b[0m\u001b[0;34m\u001b[0m\u001b[0m\n\u001b[1;32m      4\u001b[0m         \u001b[0mcylinder_set\u001b[0m\u001b[0;34m.\u001b[0m\u001b[0madd\u001b[0m\u001b[0;34m(\u001b[0m\u001b[0mrow\u001b[0m\u001b[0;34m[\u001b[0m\u001b[0;34m'cyl'\u001b[0m\u001b[0;34m]\u001b[0m\u001b[0;34m)\u001b[0m\u001b[0;34m\u001b[0m\u001b[0;34m\u001b[0m\u001b[0m\n\u001b[1;32m      5\u001b[0m \u001b[0munique_cylinders\u001b[0m \u001b[0;34m=\u001b[0m \u001b[0msorted\u001b[0m\u001b[0;34m(\u001b[0m\u001b[0mcylinder_set\u001b[0m\u001b[0;34m)\u001b[0m\u001b[0;34m\u001b[0m\u001b[0;34m\u001b[0m\u001b[0m\n",
            "\u001b[0;31mFileNotFoundError\u001b[0m: [Errno 2] No such file or directory: 'mpg.csv'"
          ]
        }
      ]
    },
    {
      "cell_type": "code",
      "metadata": {
        "id": "r4zvZqtvtDgx",
        "colab": {
          "base_uri": "https://localhost:8080/",
          "height": 371
        },
        "outputId": "ab5d47f2-ac5b-4bbe-bc55-7c57e9b33cc6"
      },
      "source": [
        "cylinders = set(d['cyl'])"
      ],
      "execution_count": 37,
      "outputs": [
        {
          "output_type": "error",
          "ename": "FileNotFoundError",
          "evalue": "[Errno 2] No such file or directory: 'mpg.csv'",
          "traceback": [
            "\u001b[0;31m---------------------------------------------------------------------------\u001b[0m",
            "\u001b[0;31mFileNotFoundError\u001b[0m                         Traceback (most recent call last)",
            "\u001b[0;32m<ipython-input-37-59ff9baffcfe>\u001b[0m in \u001b[0;36m<cell line: 2>\u001b[0;34m()\u001b[0m\n\u001b[1;32m      1\u001b[0m \u001b[0;31m#cylinders = set(d['cyl'])\u001b[0m\u001b[0;34m\u001b[0m\u001b[0;34m\u001b[0m\u001b[0m\n\u001b[0;32m----> 2\u001b[0;31m \u001b[0mmpg_data\u001b[0m \u001b[0;34m=\u001b[0m \u001b[0mpd\u001b[0m\u001b[0;34m.\u001b[0m\u001b[0mread_csv\u001b[0m\u001b[0;34m(\u001b[0m\u001b[0;34m'mpg.csv'\u001b[0m\u001b[0;34m)\u001b[0m\u001b[0;34m\u001b[0m\u001b[0;34m\u001b[0m\u001b[0m\n\u001b[0m\u001b[1;32m      3\u001b[0m \u001b[0;34m\u001b[0m\u001b[0m\n\u001b[1;32m      4\u001b[0m \u001b[0;31m# Get the column names\u001b[0m\u001b[0;34m\u001b[0m\u001b[0;34m\u001b[0m\u001b[0m\n\u001b[1;32m      5\u001b[0m \u001b[0mcolumn_names\u001b[0m \u001b[0;34m=\u001b[0m \u001b[0mmpg_data\u001b[0m\u001b[0;34m.\u001b[0m\u001b[0mcolumns\u001b[0m\u001b[0;34m.\u001b[0m\u001b[0mtolist\u001b[0m\u001b[0;34m(\u001b[0m\u001b[0;34m)\u001b[0m\u001b[0;34m\u001b[0m\u001b[0;34m\u001b[0m\u001b[0m\n",
            "\u001b[0;32m/usr/local/lib/python3.10/dist-packages/pandas/io/parsers/readers.py\u001b[0m in \u001b[0;36mread_csv\u001b[0;34m(filepath_or_buffer, sep, delimiter, header, names, index_col, usecols, dtype, engine, converters, true_values, false_values, skipinitialspace, skiprows, skipfooter, nrows, na_values, keep_default_na, na_filter, verbose, skip_blank_lines, parse_dates, infer_datetime_format, keep_date_col, date_parser, date_format, dayfirst, cache_dates, iterator, chunksize, compression, thousands, decimal, lineterminator, quotechar, quoting, doublequote, escapechar, comment, encoding, encoding_errors, dialect, on_bad_lines, delim_whitespace, low_memory, memory_map, float_precision, storage_options, dtype_backend)\u001b[0m\n\u001b[1;32m    946\u001b[0m     \u001b[0mkwds\u001b[0m\u001b[0;34m.\u001b[0m\u001b[0mupdate\u001b[0m\u001b[0;34m(\u001b[0m\u001b[0mkwds_defaults\u001b[0m\u001b[0;34m)\u001b[0m\u001b[0;34m\u001b[0m\u001b[0;34m\u001b[0m\u001b[0m\n\u001b[1;32m    947\u001b[0m \u001b[0;34m\u001b[0m\u001b[0m\n\u001b[0;32m--> 948\u001b[0;31m     \u001b[0;32mreturn\u001b[0m \u001b[0m_read\u001b[0m\u001b[0;34m(\u001b[0m\u001b[0mfilepath_or_buffer\u001b[0m\u001b[0;34m,\u001b[0m \u001b[0mkwds\u001b[0m\u001b[0;34m)\u001b[0m\u001b[0;34m\u001b[0m\u001b[0;34m\u001b[0m\u001b[0m\n\u001b[0m\u001b[1;32m    949\u001b[0m \u001b[0;34m\u001b[0m\u001b[0m\n\u001b[1;32m    950\u001b[0m \u001b[0;34m\u001b[0m\u001b[0m\n",
            "\u001b[0;32m/usr/local/lib/python3.10/dist-packages/pandas/io/parsers/readers.py\u001b[0m in \u001b[0;36m_read\u001b[0;34m(filepath_or_buffer, kwds)\u001b[0m\n\u001b[1;32m    609\u001b[0m \u001b[0;34m\u001b[0m\u001b[0m\n\u001b[1;32m    610\u001b[0m     \u001b[0;31m# Create the parser.\u001b[0m\u001b[0;34m\u001b[0m\u001b[0;34m\u001b[0m\u001b[0m\n\u001b[0;32m--> 611\u001b[0;31m     \u001b[0mparser\u001b[0m \u001b[0;34m=\u001b[0m \u001b[0mTextFileReader\u001b[0m\u001b[0;34m(\u001b[0m\u001b[0mfilepath_or_buffer\u001b[0m\u001b[0;34m,\u001b[0m \u001b[0;34m**\u001b[0m\u001b[0mkwds\u001b[0m\u001b[0;34m)\u001b[0m\u001b[0;34m\u001b[0m\u001b[0;34m\u001b[0m\u001b[0m\n\u001b[0m\u001b[1;32m    612\u001b[0m \u001b[0;34m\u001b[0m\u001b[0m\n\u001b[1;32m    613\u001b[0m     \u001b[0;32mif\u001b[0m \u001b[0mchunksize\u001b[0m \u001b[0;32mor\u001b[0m \u001b[0miterator\u001b[0m\u001b[0;34m:\u001b[0m\u001b[0;34m\u001b[0m\u001b[0;34m\u001b[0m\u001b[0m\n",
            "\u001b[0;32m/usr/local/lib/python3.10/dist-packages/pandas/io/parsers/readers.py\u001b[0m in \u001b[0;36m__init__\u001b[0;34m(self, f, engine, **kwds)\u001b[0m\n\u001b[1;32m   1446\u001b[0m \u001b[0;34m\u001b[0m\u001b[0m\n\u001b[1;32m   1447\u001b[0m         \u001b[0mself\u001b[0m\u001b[0;34m.\u001b[0m\u001b[0mhandles\u001b[0m\u001b[0;34m:\u001b[0m \u001b[0mIOHandles\u001b[0m \u001b[0;34m|\u001b[0m \u001b[0;32mNone\u001b[0m \u001b[0;34m=\u001b[0m \u001b[0;32mNone\u001b[0m\u001b[0;34m\u001b[0m\u001b[0;34m\u001b[0m\u001b[0m\n\u001b[0;32m-> 1448\u001b[0;31m         \u001b[0mself\u001b[0m\u001b[0;34m.\u001b[0m\u001b[0m_engine\u001b[0m \u001b[0;34m=\u001b[0m \u001b[0mself\u001b[0m\u001b[0;34m.\u001b[0m\u001b[0m_make_engine\u001b[0m\u001b[0;34m(\u001b[0m\u001b[0mf\u001b[0m\u001b[0;34m,\u001b[0m \u001b[0mself\u001b[0m\u001b[0;34m.\u001b[0m\u001b[0mengine\u001b[0m\u001b[0;34m)\u001b[0m\u001b[0;34m\u001b[0m\u001b[0;34m\u001b[0m\u001b[0m\n\u001b[0m\u001b[1;32m   1449\u001b[0m \u001b[0;34m\u001b[0m\u001b[0m\n\u001b[1;32m   1450\u001b[0m     \u001b[0;32mdef\u001b[0m \u001b[0mclose\u001b[0m\u001b[0;34m(\u001b[0m\u001b[0mself\u001b[0m\u001b[0;34m)\u001b[0m \u001b[0;34m->\u001b[0m \u001b[0;32mNone\u001b[0m\u001b[0;34m:\u001b[0m\u001b[0;34m\u001b[0m\u001b[0;34m\u001b[0m\u001b[0m\n",
            "\u001b[0;32m/usr/local/lib/python3.10/dist-packages/pandas/io/parsers/readers.py\u001b[0m in \u001b[0;36m_make_engine\u001b[0;34m(self, f, engine)\u001b[0m\n\u001b[1;32m   1703\u001b[0m                 \u001b[0;32mif\u001b[0m \u001b[0;34m\"b\"\u001b[0m \u001b[0;32mnot\u001b[0m \u001b[0;32min\u001b[0m \u001b[0mmode\u001b[0m\u001b[0;34m:\u001b[0m\u001b[0;34m\u001b[0m\u001b[0;34m\u001b[0m\u001b[0m\n\u001b[1;32m   1704\u001b[0m                     \u001b[0mmode\u001b[0m \u001b[0;34m+=\u001b[0m \u001b[0;34m\"b\"\u001b[0m\u001b[0;34m\u001b[0m\u001b[0;34m\u001b[0m\u001b[0m\n\u001b[0;32m-> 1705\u001b[0;31m             self.handles = get_handle(\n\u001b[0m\u001b[1;32m   1706\u001b[0m                 \u001b[0mf\u001b[0m\u001b[0;34m,\u001b[0m\u001b[0;34m\u001b[0m\u001b[0;34m\u001b[0m\u001b[0m\n\u001b[1;32m   1707\u001b[0m                 \u001b[0mmode\u001b[0m\u001b[0;34m,\u001b[0m\u001b[0;34m\u001b[0m\u001b[0;34m\u001b[0m\u001b[0m\n",
            "\u001b[0;32m/usr/local/lib/python3.10/dist-packages/pandas/io/common.py\u001b[0m in \u001b[0;36mget_handle\u001b[0;34m(path_or_buf, mode, encoding, compression, memory_map, is_text, errors, storage_options)\u001b[0m\n\u001b[1;32m    861\u001b[0m         \u001b[0;32mif\u001b[0m \u001b[0mioargs\u001b[0m\u001b[0;34m.\u001b[0m\u001b[0mencoding\u001b[0m \u001b[0;32mand\u001b[0m \u001b[0;34m\"b\"\u001b[0m \u001b[0;32mnot\u001b[0m \u001b[0;32min\u001b[0m \u001b[0mioargs\u001b[0m\u001b[0;34m.\u001b[0m\u001b[0mmode\u001b[0m\u001b[0;34m:\u001b[0m\u001b[0;34m\u001b[0m\u001b[0;34m\u001b[0m\u001b[0m\n\u001b[1;32m    862\u001b[0m             \u001b[0;31m# Encoding\u001b[0m\u001b[0;34m\u001b[0m\u001b[0;34m\u001b[0m\u001b[0m\n\u001b[0;32m--> 863\u001b[0;31m             handle = open(\n\u001b[0m\u001b[1;32m    864\u001b[0m                 \u001b[0mhandle\u001b[0m\u001b[0;34m,\u001b[0m\u001b[0;34m\u001b[0m\u001b[0;34m\u001b[0m\u001b[0m\n\u001b[1;32m    865\u001b[0m                 \u001b[0mioargs\u001b[0m\u001b[0;34m.\u001b[0m\u001b[0mmode\u001b[0m\u001b[0;34m,\u001b[0m\u001b[0;34m\u001b[0m\u001b[0;34m\u001b[0m\u001b[0m\n",
            "\u001b[0;31mFileNotFoundError\u001b[0m: [Errno 2] No such file or directory: 'mpg.csv'"
          ]
        }
      ]
    },
    {
      "cell_type": "markdown",
      "metadata": {
        "id": "v2m5FAT-y2Cm"
      },
      "source": [
        "Group the cars by number of cylinder, and finding the average cty mpg for each group."
      ]
    },
    {
      "cell_type": "code",
      "metadata": {
        "id": "crTKKVSny2Cm"
      },
      "source": [
        "# Read the CSV file and store data in a list of dictionaries\n",
        "with open('mpg.csv', 'r') as csvfile:\n",
        "    reader = csv.DictReader(csvfile)\n",
        "    mpg = [row for row in reader]\n",
        "\n",
        "# Get unique cylinder values\n",
        "cylinders = set(d['cyl'] for d in mpg)\n",
        "MpgByCyl = []\n",
        "\n",
        "for c in cylinders:  # Iterate over all the cylinder levels\n",
        "    summpg = 0\n",
        "    typecount = 0\n",
        "    for d in mpg:  # Iterate over all dictionaries\n",
        "        if d['cyl'] == c:\n",
        "            summpg += float(d['cty'])  # Sum the city MPG\n",
        "            typecount += 1  # Count the number of cars\n",
        "\n",
        "    # Calculate average city MPG for this cylinder group\n",
        "    if typecount > 0:\n",
        "        average_cty = summpg / typecount\n",
        "        MpgByCyl.append((c, average_cty))  # Append tuple of (cylinder, average MPG)\n",
        "\n",
        "# Sort the results by cylinder count\n",
        "MpgByCyl.sort(key=lambda x: int(x[0]))  # Sort by the number of cylinders\n",
        "\n",
        "# Print the results\n",
        "print(\"Average city MPG by number of cylinders:\")\n",
        "for cyl, avg_mpg in MpgByCyl:\n",
        "    print(f\"Cylinders: {cyl}, Average city MPG: {avg_mpg:.2f}\")"
      ],
      "execution_count": null,
      "outputs": []
    },
    {
      "cell_type": "markdown",
      "metadata": {
        "id": "Nyd-Ggpdy2Cp"
      },
      "source": [
        "Return the unique values for the class types in our dataset using set."
      ]
    },
    {
      "cell_type": "code",
      "metadata": {
        "id": "omaBZYxgy2Cp"
      },
      "source": [
        "vehicleclass = set(d['class'] for d in mpg)"
      ],
      "execution_count": null,
      "outputs": []
    },
    {
      "cell_type": "markdown",
      "metadata": {
        "id": "-cZVEpkQy2Cs"
      },
      "source": [
        "Find average miles per gallon in the highway for each class of vehicles"
      ]
    },
    {
      "cell_type": "code",
      "metadata": {
        "id": "RNBwqWwUy2Cs"
      },
      "source": [
        "MileageByClass = []\n",
        "\n",
        "for t in : # iterate over all the vehicle classes\n",
        "    sumpg = 0\n",
        "    classCount = 0\n",
        "    for d in mpg:\n",
        "        if d['class'] == t:\n",
        "    MileageByClass.append((t, ))\n",
        "\n",
        "MileageByClass.sort(key=lambda x: x[1])\n",
        "\n"
      ],
      "execution_count": null,
      "outputs": []
    }
  ]
}